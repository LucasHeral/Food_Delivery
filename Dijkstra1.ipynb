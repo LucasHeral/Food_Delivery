{
 "cells": [
  {
   "cell_type": "code",
   "execution_count": 1,
   "metadata": {
    "collapsed": true,
    "deletable": true,
    "editable": true
   },
   "outputs": [],
   "source": [
    "# We import libraries that we will use throughout the code\n",
    "import numpy as np # Array processing for numbers, strings, records, and objects\n",
    "import collections # The librairy \"collections\" allows to import lists, dictionaries and sets\n",
    "\n",
    "\n",
    "class Graph:# We create a class \"Graph\" that contains the following functions. Then we can call this class in the code\n",
    "            # when needed. \n",
    "    def __init__(self): # The first function that we define inside the class \"Graph\" is \"__init__\". It initializes \n",
    "                        # the objects (variables) of the graph: nodes, edges, and distances. \n",
    "        self.nodes = set() # We create the variable \"nodes\" that is a set (empty at first)\n",
    "        self.edges = collections.defaultdict(list)# We create the variable \"edges\" that is a dictionary. A dictionary \n",
    "                                                  # is a unordered list of keys associated to values.  We use the \n",
    "                                                  # dictionary \"defaultdict\" from \"collections\" that creates an empty \n",
    "                                                  # list and allows to append elements to it without having to \n",
    "                                                  #initialise each empty list.\n",
    "        self.distances = {} # We create the variable \"distances\" that is also a dictionary. This dictionary is empty \n",
    "                            # at first.\n",
    "\n",
    "    def add_node(self, value): # After having initialized the variables, we define the function \"add_node\". This \n",
    "                               # function corresponds to the first action that the class can do: adding a node to the \n",
    "                               # graph. And to add a node, we need a value. The value of a node is the accumulation of \n",
    "                               # the distances of the edges leading to this node.\n",
    "        self.nodes.add(value) # To add the value into the set of nodes \"self.nodes\".\n",
    "\n",
    "    def add_edge(self, from_node, to_node, distance): # This function is used to add an edge to the graph. To add an \n",
    "                                                      # edge, we need the node of origin of the edge: \"from_node\", its \n",
    "                                                      # destination: \"to_node\" and its weight: \"distance\" \n",
    "        self.edges[from_node].append(to_node) # We assign the position \"to_node\" (a  value) to the position \n",
    "                                              # \"from_node\" (a key).\n",
    "        self.distances[(from_node, to_node)] = distance # to assign a distance from a node (\"from_node\") to \n",
    "                                                        # another (\"to_node\").\n",
    "\n",
    "def dijkstra(graph, initial): # We define the Dijsktra function that will need a graph (that we will generate after) \n",
    "                              # and a source: \"initial\".\n",
    "    m = {initial: 0} # m contains the nodes that have an estimated distance, hence that have been visited. \n",
    "    predecessor = {} \n",
    "\n",
    "    non_visited = set(graph.nodes)\n",
    "\n",
    "# While loop\n",
    "    while non_visited: # While some nodes are not visited,\n",
    "        min_node = None # there is no minimum node yet. \"min_node\" is the node with the smallest value, in other words,\n",
    "                        # it is the node that minimizes the distance from initial.\n",
    "\n",
    "# the algorithm visits every node one by one.        \n",
    "        for node in non_visited: # For every node in the graph\n",
    "            if node in m: # if the node has an estimated distance \n",
    "                if min_node is None: # and if there is no min_node : if there is no node that has a value yet\n",
    "                    min_node = node # then the new node becomes the min_node\n",
    "                elif m[node] < m[min_node]: # however, if there is already a min_node, we check if the distance \n",
    "                                            # travelled to get to the new node is inferior to the one of the min_node.\n",
    "                    min_node = node # and if it is the case, then the new node becomes the min_node\n",
    "\n",
    "        if min_node is None:\n",
    "            break # once every node has been visited, then there will be no more new min_node, and the \"while\" is over.\n",
    "\n",
    "        non_visited.remove(min_node) # once min_node has been visited, it is removed from the set of the non visited \n",
    "                                    # nodes.\n",
    "\n",
    "        current_weight = m[min_node] # the variable \"current_weight\" is distance travelled to get to min_node.\n",
    "\n",
    "        for neighbor in graph.edges[min_node]: # for the edges that departs from the min_node, that we call \"neighbor\" \n",
    "                                               # of min_node\n",
    "\n",
    "            weight = current_weight + graph.distances[(min_node, neighbor)] # the variable \"weight\" is equal to the  \n",
    "                                                                            # sum of \"current_weight\" and the distance \n",
    "                                                                            # of the edge that goes from \"min_node\" to \n",
    "                                                                            # \"neighbor\".\n",
    "\n",
    "            if neighbor not in m or weight < m[neighbor]: # if the neighbor does not have a value yet (doesn't have \n",
    "                                                          # the value of the edge that goes from min_node to neighbor) \n",
    "                                                          # OR if the weight of the distance when passing by min_node \n",
    "                                                          # is inferior to the weight we had before\n",
    "                m[neighbor] = weight # the weight is updated\n",
    "                predecessor[neighbor] = min_node # the predecessor is updated and becomes min_node\n",
    "\n",
    "    return m, predecessor\n",
    "\n",
    "# this cell uses the code found on https://gist.github.com/econchick/4666413, but with changes in variables' names. "
   ]
  },
  {
   "cell_type": "markdown",
   "metadata": {
    "deletable": true,
    "editable": true
   },
   "source": [
    "Then we write the algorithm that solves our business problem."
   ]
  },
  {
   "cell_type": "code",
   "execution_count": 2,
   "metadata": {
    "collapsed": true,
    "deletable": true,
    "editable": true
   },
   "outputs": [],
   "source": [
    "def find_optimal_intermediary(dep,arr,intermediaries,graph):\n",
    "    '''\n",
    "    This function will, given a graph, a departure node, \n",
    "    an arrival node find the best intermediary point to \n",
    "    pass by in order to minimize the total path length.\n",
    "\n",
    "    @params\n",
    "    :dep: the departure point (string)\n",
    "    :arr: the arrival point (string)\n",
    "    :intermediaries: the list of possible intermediary points (list of strings))\n",
    "    :graph: the graph\n",
    "    '''\n",
    "\n",
    "    # We first call the function dijkstra to compute the distance from dep to all nodes in the graph\n",
    "    m_dep, predecessor_dep = dijkstra(graph, dep)\n",
    "\n",
    "    # Then for each of the intermediary points we compute \n",
    "    # the distance from the intermediary point to any other in the graph\n",
    "    \n",
    "    dijkstra_results = {} # We create the dictionary \"dijkstra_results empty at first.\n",
    "    for inter_point in intermediaries: #For an intermediary point in the lists of all intermediary points,\n",
    "                                       # we store the results in a dictionary to be able to use it afterwards\n",
    "        dijkstra_results[inter_point], _ = dijkstra(graph, inter_point) # To each key \"inter_point\" in the dictionary \n",
    "                                                                        # \"dijkstra_results\", we assign the value of\n",
    "                                                                        # the output m. \n",
    "\n",
    "        \n",
    "    # we have all the necessary information to compute the length of each path\n",
    "    \n",
    "    no_inter_dist = m_dep[arr] # distance between dep and arr without going through an inter point\n",
    "    print(\"Without going through any intermediary points d = {}\".format(no_inter_dist))\n",
    "    inter_distances = [] # stores the distance of the path going through each interpoint\n",
    "  \n",
    "    for inter_point in intermediaries:\n",
    "        dep_inter = m_dep[inter_point] # distance from departure to intermediary point\n",
    "        inter_arr = dijkstra_results[inter_point][arr] # distance from intermediary point to arrival\n",
    "        total_dist = dep_inter + inter_arr # the total distance equals the sum of the two previous distances\n",
    "        inter_distances.append(total_dist) # We append the total_dist to the array \"inter_distances\"\n",
    "\n",
    "    # we find the minimun distance\n",
    "    optimal_inter = intermediaries[np.argmin(inter_distances)] # Returns the indices of the minimum values along all \n",
    "                                                               # intermediaries.\n",
    "    optimal_dist = min(inter_distances) # Returns the minimum distance \n",
    "\n",
    "    print(\"Synthesis of the distance through each intermediary point:\")\n",
    "    for i,inter_point in enumerate(intermediaries):\n",
    "        print(\"\\tThrough {}, d = {}\".format(inter_point,inter_distances[i]))\n",
    "\n",
    "    print(\"The optimal intermediary point is {} (increasing the distance between '{}' and '{}' of {} distance units).\".format(optimal_inter,dep,arr,optimal_dist-no_inter_dist))"
   ]
  },
  {
   "cell_type": "code",
   "execution_count": 3,
   "metadata": {
    "collapsed": false,
    "deletable": true,
    "editable": true,
    "scrolled": false
   },
   "outputs": [
    {
     "name": "stdout",
     "output_type": "stream",
     "text": [
      "Without going through any intermediary points d = 3\n",
      "Synthesis of the distance through each intermediary point:\n",
      "\tThrough E, d = 3\n",
      "\tThrough B, d = 6\n",
      "\tThrough F, d = 5\n",
      "The optimal intermediary point is E (increasing the distance between 'A' and 'H' of 0 distance units).\n"
     ]
    }
   ],
   "source": [
    "# In order to test the program, we create a graph as an example\n",
    "graph = Graph() # We call the class \"Graph\" to generate the graph. What the class can output will be stored in \n",
    "                # the variable \"graph\".\n",
    "\n",
    "# Then we add the different nodes\n",
    "graph.add_node('A') # (departure)\n",
    "graph.add_node('B')\n",
    "graph.add_node('C')\n",
    "graph.add_node('D')\n",
    "graph.add_node('E')\n",
    "graph.add_node('F')\n",
    "graph.add_node('G')\n",
    "graph.add_node('H') # (arrival)\n",
    "graph.add_node('I')\n",
    "\n",
    "# Finally we create the different links between the edges\n",
    "graph.add_edge('A','C',1)\n",
    "graph.add_edge('A','B',2)\n",
    "graph.add_edge('C','D',2)\n",
    "graph.add_edge('D','B',3)\n",
    "graph.add_edge('C','E',1)\n",
    "graph.add_edge('D','E',2)\n",
    "graph.add_edge('D','F',1)\n",
    "graph.add_edge('B','F',6)\n",
    "graph.add_edge('B','G',1)\n",
    "graph.add_edge('E','H',1)\n",
    "graph.add_edge('F','H',1)\n",
    "graph.add_edge('G','H',3)\n",
    "graph.add_edge('B','I',3)\n",
    "graph.add_edge('I','',3)\n",
    "\n",
    "# Now we will give more meaningful names to our nodes in order to use it for our business case\n",
    "departure = 'A'\n",
    "arrival = 'H'\n",
    "inter1 = 'E'\n",
    "inter2 = 'B'\n",
    "inter3 = 'F'\n",
    "intermediaries = [inter1,inter2,inter3]\n",
    "\n",
    "# Now we can run our algorithm\n",
    "find_optimal_intermediary(departure,arrival,intermediaries,graph)"
   ]
  },
  {
   "cell_type": "code",
   "execution_count": 4,
   "metadata": {
    "collapsed": false,
    "deletable": true,
    "editable": true
   },
   "outputs": [
    {
     "name": "stdout",
     "output_type": "stream",
     "text": [
      "Without going through any intermediary points d = 3\n",
      "Synthesis of the distance through each intermediary point:\n",
      "\tThrough E, d = 3\n",
      "\tThrough B, d = 6\n",
      "\tThrough F, d = 5\n",
      "The optimal intermediary point is E (increasing the distance between 'A' and 'H' of 0 distance units).\n"
     ]
    }
   ],
   "source": [
    "# In order to test the program, we create a graph as an example\n",
    "graph1 = Graph()\n",
    "\n",
    "# Then we add the different nodes\n",
    "graph1.add_node('A') # (departure)\n",
    "graph1.add_node('B')\n",
    "graph1.add_node('C')\n",
    "graph1.add_node('D')\n",
    "graph1.add_node('E')\n",
    "graph1.add_node('F')\n",
    "graph1.add_node('G')\n",
    "graph1.add_node('H')# (arrival)\n",
    "graph1.add_node('I')\n",
    "graph1.add_node('J')\n",
    "graph1.add_node('K')\n",
    "graph1.add_node('L')\n",
    "graph1.add_node('M')\n",
    "graph1.add_node('N')\n",
    "\n",
    "# Finally we create the different links between the edges\n",
    "graph1.add_edge('A','C',1)\n",
    "graph1.add_edge('A','B',2)\n",
    "graph1.add_edge('C','D',2)\n",
    "graph1.add_edge('D','B',3)\n",
    "graph1.add_edge('C','E',1)\n",
    "graph1.add_edge('D','E',2)\n",
    "graph1.add_edge('D','F',1)\n",
    "graph1.add_edge('B','F',6)\n",
    "graph1.add_edge('B','G',1)\n",
    "graph1.add_edge('E','H',1)\n",
    "graph1.add_edge('F','H',1)\n",
    "graph1.add_edge('G','H',3)\n",
    "graph1.add_edge('B','J',2)\n",
    "graph1.add_edge('J','F',2)\n",
    "graph1.add_edge('E','I',2)\n",
    "graph1.add_edge('I','F',1)\n",
    "graph1.add_edge('K','F',6)\n",
    "graph1.add_edge('L','H',5)\n",
    "graph1.add_edge('A','L',3)\n",
    "graph1.add_edge('B','M',1)\n",
    "graph1.add_edge('M','E',6)\n",
    "graph1.add_edge('M','N',3)\n",
    "graph1.add_edge('N','H',1)\n",
    "\n",
    "\n",
    "# Now we will give more meaningful names to our nodes in order to use it for our business case\n",
    "departure = 'A'\n",
    "arrival = 'H'\n",
    "inter1 = 'E'\n",
    "inter2 = 'B'\n",
    "inter3 = 'F'\n",
    "intermediaries = [inter1,inter2,inter3]\n",
    "\n",
    "find_optimal_intermediary(departure,arrival,intermediaries,graph1)"
   ]
  },
  {
   "cell_type": "code",
   "execution_count": 5,
   "metadata": {
    "collapsed": false,
    "deletable": true,
    "editable": true
   },
   "outputs": [
    {
     "name": "stdout",
     "output_type": "stream",
     "text": [
      "Without going through any intermediary points d = 3\n",
      "Synthesis of the distance through each intermediary point:\n",
      "\tThrough E, d = 3\n",
      "\tThrough B, d = 6\n",
      "\tThrough F, d = 4\n",
      "The optimal intermediary point is E (increasing the distance between 'A' and 'H' of 0 distance units).\n"
     ]
    }
   ],
   "source": [
    "# In order to test the program, we create a graph as an example\n",
    "graph2 = Graph()\n",
    "\n",
    "# Then we add the different nodes\n",
    "graph2.add_node('A') # (departure)\n",
    "graph2.add_node('B')\n",
    "graph2.add_node('C')\n",
    "graph2.add_node('D')\n",
    "graph2.add_node('E')\n",
    "graph2.add_node('F')\n",
    "graph2.add_node('G')\n",
    "graph2.add_node('H')# (arrival)\n",
    "graph2.add_node('I')\n",
    "graph2.add_node('J')\n",
    "graph2.add_node('K')\n",
    "graph2.add_node('L')\n",
    "graph2.add_node('M')\n",
    "graph2.add_node('N')\n",
    "graph2.add_node('O')\n",
    "graph2.add_node('P')\n",
    "graph2.add_node('Q')\n",
    "graph2.add_node('R')\n",
    "\n",
    "# Finally we create the different links between the edges\n",
    "graph2.add_edge('A','C',1)\n",
    "graph2.add_edge('A','B',2)\n",
    "graph2.add_edge('C','D',2)\n",
    "graph2.add_edge('D','B',3)\n",
    "graph2.add_edge('C','E',1)\n",
    "graph2.add_edge('D','E',2)\n",
    "graph2.add_edge('D','F',1)\n",
    "graph2.add_edge('B','F',6)\n",
    "graph2.add_edge('B','G',1)\n",
    "graph2.add_edge('E','H',1)\n",
    "graph2.add_edge('F','H',1)\n",
    "graph2.add_edge('G','H',3)\n",
    "graph2.add_edge('B','J',2)\n",
    "graph2.add_edge('J','F',2)\n",
    "graph2.add_edge('E','I',2)\n",
    "graph2.add_edge('I','F',1)\n",
    "graph2.add_edge('K','F',6)\n",
    "graph2.add_edge('L','H',5)\n",
    "graph2.add_edge('A','L',3)\n",
    "graph2.add_edge('B','M',1)\n",
    "graph2.add_edge('M','E',6)\n",
    "graph2.add_edge('M','N',3)\n",
    "graph2.add_edge('N','H',1)\n",
    "graph2.add_edge('A','O',2)\n",
    "graph2.add_edge('O','F',1)\n",
    "graph2.add_edge('A','P',5)\n",
    "graph2.add_edge('P','H',1)\n",
    "graph2.add_edge('C','Q',3)\n",
    "graph2.add_edge('Q','B',1)\n",
    "graph2.add_edge('A','R',1)\n",
    "graph2.add_edge('R','L',1)\n",
    "graph2.add_edge('R','B',3)\n",
    "graph2.add_edge('L','C',5)\n",
    "graph2.add_edge('L','E',5)\n",
    "graph2.add_edge('E','K',3)\n",
    "\n",
    "# Now we will give more meaningful names to our nodes in order to use it for our business case\n",
    "departure = 'A'\n",
    "arrival = 'H'\n",
    "inter1 = 'E'\n",
    "inter2 = 'B'\n",
    "inter3 = 'F'\n",
    "intermediaries = [inter1,inter2,inter3]\n",
    "\n",
    "find_optimal_intermediary(departure,arrival,intermediaries,graph2)"
   ]
  },
  {
   "cell_type": "code",
   "execution_count": 6,
   "metadata": {
    "collapsed": false,
    "deletable": true,
    "editable": true
   },
   "outputs": [
    {
     "name": "stdout",
     "output_type": "stream",
     "text": [
      "Without going through any intermediary points d = 3\n",
      "Synthesis of the distance through each intermediary point:\n",
      "\tThrough E, d = 3\n",
      "\tThrough B, d = 6\n",
      "\tThrough F, d = 4\n",
      "The optimal intermediary point is E (increasing the distance between 'A' and 'H' of 0 distance units).\n"
     ]
    }
   ],
   "source": [
    "# In order to test the program, we create a graph as an example\n",
    "graph3 = Graph()\n",
    "\n",
    "# Then we add the different nodes\n",
    "graph3.add_node('A') # (departure)\n",
    "graph3.add_node('B')\n",
    "graph3.add_node('C')\n",
    "graph3.add_node('D')\n",
    "graph3.add_node('E')\n",
    "graph3.add_node('F')\n",
    "graph3.add_node('G')\n",
    "graph3.add_node('H')# (arrival)\n",
    "graph3.add_node('I')\n",
    "graph3.add_node('J')\n",
    "graph3.add_node('K')\n",
    "graph3.add_node('L')\n",
    "graph3.add_node('M')\n",
    "graph3.add_node('N')\n",
    "graph3.add_node('O')\n",
    "graph3.add_node('P')\n",
    "graph3.add_node('Q')\n",
    "graph3.add_node('R')\n",
    "graph3.add_node('S')\n",
    "graph3.add_node('T')\n",
    "graph3.add_node('U')\n",
    "graph3.add_node('V')\n",
    "\n",
    "# Finally we create the different links between the edges\n",
    "graph3.add_edge('A','C',1)\n",
    "graph3.add_edge('A','B',2)\n",
    "graph3.add_edge('C','D',2)\n",
    "graph3.add_edge('D','B',3)\n",
    "graph3.add_edge('C','E',1)\n",
    "graph3.add_edge('D','E',2)\n",
    "graph3.add_edge('D','F',1)\n",
    "graph3.add_edge('B','F',6)\n",
    "graph3.add_edge('B','G',1)\n",
    "graph3.add_edge('E','H',1)\n",
    "graph3.add_edge('F','H',1)\n",
    "graph3.add_edge('G','H',3)\n",
    "graph3.add_edge('B','J',2)\n",
    "graph3.add_edge('J','F',2)\n",
    "graph3.add_edge('E','I',2)\n",
    "graph3.add_edge('I','F',1)\n",
    "graph3.add_edge('K','F',6)\n",
    "graph3.add_edge('L','H',5)\n",
    "graph3.add_edge('A','L',3)\n",
    "graph3.add_edge('B','M',1)\n",
    "graph3.add_edge('M','E',6)\n",
    "graph3.add_edge('M','N',3)\n",
    "graph3.add_edge('N','H',1)\n",
    "graph3.add_edge('A','O',2)\n",
    "graph3.add_edge('O','F',1)\n",
    "graph3.add_edge('A','P',5)\n",
    "graph3.add_edge('P','H',1)\n",
    "graph3.add_edge('C','Q',3)\n",
    "graph3.add_edge('Q','B',1)\n",
    "graph3.add_edge('A','R',1)\n",
    "graph3.add_edge('R','L',1)\n",
    "graph3.add_edge('R','B',3)\n",
    "graph3.add_edge('L','C',5)\n",
    "graph3.add_edge('L','E',5)\n",
    "graph3.add_edge('E','K',3)\n",
    "graph3.add_edge('A','S',6)\n",
    "graph3.add_edge('S','F',4)\n",
    "graph3.add_edge('F','B',1)\n",
    "graph3.add_edge('S','H',5)\n",
    "graph3.add_edge('B','T',1)\n",
    "graph3.add_edge('T','K',7)\n",
    "graph3.add_edge('C','U',3)\n",
    "graph3.add_edge('U','D',1)\n",
    "graph3.add_edge('U','J',7)\n",
    "graph3.add_edge('O','V',3)\n",
    "graph3.add_edge('V','U',4)\n",
    "graph3.add_edge('V','B',4)\n",
    "\n",
    "# Now we will give more meaningful names to our nodes in order to use it for our business case\n",
    "departure = 'A'\n",
    "arrival = 'H'\n",
    "inter1 = 'E'\n",
    "inter2 = 'B'\n",
    "inter3 = 'F'\n",
    "intermediaries = [inter1,inter2,inter3]\n",
    "\n",
    "find_optimal_intermediary(departure,arrival,intermediaries,graph3)"
   ]
  },
  {
   "cell_type": "markdown",
   "metadata": {
    "collapsed": true,
    "deletable": true,
    "editable": true
   },
   "source": [
    "Here we can observe the running times and big-O plots."
   ]
  },
  {
   "cell_type": "code",
   "execution_count": 7,
   "metadata": {
    "collapsed": false,
    "deletable": true,
    "editable": true,
    "scrolled": true
   },
   "outputs": [
    {
     "name": "stdout",
     "output_type": "stream",
     "text": [
      "Without going through any intermediary points d = 3\n",
      "Synthesis of the distance through each intermediary point:\n",
      "\tThrough E, d = 3\n",
      "\tThrough B, d = 6\n",
      "\tThrough F, d = 5\n",
      "The optimal intermediary point is E (increasing the distance between 'A' and 'H' of 0 distance units).\n",
      "--- 0.0011150836944580078 seconds ---\n"
     ]
    }
   ],
   "source": [
    "# running time of the algorithm when the graph input is \"graph\" with 8 nodes\n",
    "import time\n",
    "start_time = time.time()\n",
    "find_optimal_intermediary(departure,arrival,intermediaries,graph)\n",
    "end_time = time.time()\n",
    "print(\"--- {} seconds ---\".format(end_time-start_time))"
   ]
  },
  {
   "cell_type": "code",
   "execution_count": 8,
   "metadata": {
    "collapsed": false,
    "deletable": true,
    "editable": true
   },
   "outputs": [
    {
     "name": "stdout",
     "output_type": "stream",
     "text": [
      "Without going through any intermediary points d = 3\n",
      "Synthesis of the distance through each intermediary point:\n",
      "\tThrough E, d = 3\n",
      "\tThrough B, d = 6\n",
      "\tThrough F, d = 5\n",
      "The optimal intermediary point is E (increasing the distance between 'A' and 'H' of 0 distance units).\n",
      "--- 0.0011723041534423828 seconds ---\n"
     ]
    }
   ],
   "source": [
    "# running time of the algorithm when the graph input is \"graph1\" with 14 nodes\n",
    "import time\n",
    "start_time = time.time()\n",
    "find_optimal_intermediary(departure,arrival,intermediaries,graph1)\n",
    "end_time = time.time()\n",
    "print(\"--- {} seconds ---\".format(end_time-start_time))"
   ]
  },
  {
   "cell_type": "code",
   "execution_count": 9,
   "metadata": {
    "collapsed": false,
    "deletable": true,
    "editable": true
   },
   "outputs": [
    {
     "name": "stdout",
     "output_type": "stream",
     "text": [
      "Without going through any intermediary points d = 3\n",
      "Synthesis of the distance through each intermediary point:\n",
      "\tThrough E, d = 3\n",
      "\tThrough B, d = 6\n",
      "\tThrough F, d = 4\n",
      "The optimal intermediary point is E (increasing the distance between 'A' and 'H' of 0 distance units).\n",
      "--- 0.001554250717163086 seconds ---\n"
     ]
    }
   ],
   "source": [
    "# running time of the algorithm when the graph input is \"graph\" with 18 nodes\n",
    "import time\n",
    "start_time = time.time()\n",
    "find_optimal_intermediary(departure,arrival,intermediaries,graph2)\n",
    "end_time = time.time()\n",
    "print(\"--- {} seconds ---\".format(end_time-start_time))"
   ]
  },
  {
   "cell_type": "code",
   "execution_count": 10,
   "metadata": {
    "collapsed": false,
    "deletable": true,
    "editable": true,
    "scrolled": true
   },
   "outputs": [
    {
     "name": "stdout",
     "output_type": "stream",
     "text": [
      "Without going through any intermediary points d = 3\n",
      "Synthesis of the distance through each intermediary point:\n",
      "\tThrough E, d = 3\n",
      "\tThrough B, d = 6\n",
      "\tThrough F, d = 4\n",
      "The optimal intermediary point is E (increasing the distance between 'A' and 'H' of 0 distance units).\n",
      "--- 0.003374338150024414 seconds ---\n"
     ]
    }
   ],
   "source": [
    "# running time of the algorithm when the graph input is \"graph\" with 22 nodes\n",
    "import time\n",
    "start_time = time.time()\n",
    "find_optimal_intermediary(departure,arrival,intermediaries,graph3)\n",
    "end_time = time.time()\n",
    "print(\"--- {} seconds ---\".format(end_time-start_time))"
   ]
  },
  {
   "cell_type": "code",
   "execution_count": null,
   "metadata": {
    "collapsed": false
   },
   "outputs": [],
   "source": [
    "# Plot returning running time for every generated graph.\n",
    "%matplotlib inline\n",
    "from matplotlib import pyplot as plt\n",
    "plt.style.use('ggplot')\n",
    "\n",
    "plt.figure(figsize=(6,4))  \n",
    "\n",
    "times = []\n",
    "graphs = [graph,graph1,graph2]\n",
    "\n",
    "n_nodes = [len(list(g.edges)) for g in graphs]\n",
    "\n",
    "\n",
    "for g in graphs:\n",
    "    start_time = time.time()\n",
    "    find_optimal_intermediary(departure,arrival,intermediaries,g)\n",
    "    end_time = time.time()\n",
    "    times.append(end_time-start_time)\n",
    "    \n",
    "plt.xlabel('length of list (n)')\n",
    "plt.ylabel('run time (secs)')\n",
    "plt.title('Run Time Big(O) for combinations()')\n",
    "plt.plot(n_nodes, times, 'o-');"
   ]
  },
  {
   "cell_type": "code",
   "execution_count": null,
   "metadata": {
    "collapsed": false,
    "deletable": true,
    "editable": true,
    "scrolled": true
   },
   "outputs": [],
   "source": [
    "# Plot returning running time for every generated graph.\n",
    "%matplotlib inline\n",
    "from matplotlib import pyplot as plt\n",
    "plt.style.use('ggplot')\n",
    "\n",
    "plt.figure(figsize=(6,4))  \n",
    "\n",
    "times = []\n",
    "graphs = [graph,graph1,graph2,graph3]\n",
    "\n",
    "n_nodes = [len(list(g.edges)) for g in graphs]\n",
    "\n",
    "\n",
    "for g in graphs:\n",
    "    start_time = time.time()\n",
    "    find_optimal_intermediary(departure,arrival,intermediaries,g)\n",
    "    end_time = time.time()\n",
    "    times.append(end_time-start_time)\n",
    "    \n",
    "plt.xlabel('length of list (n)')\n",
    "plt.ylabel('run time (secs)')\n",
    "plt.title('Run Time Big(O) for combinations()')\n",
    "plt.plot(n_nodes, times, 'o-');\n"
   ]
  },
  {
   "cell_type": "code",
   "execution_count": null,
   "metadata": {
    "collapsed": true
   },
   "outputs": [],
   "source": []
  },
  {
   "cell_type": "code",
   "execution_count": null,
   "metadata": {
    "collapsed": false,
    "deletable": true,
    "editable": true
   },
   "outputs": [],
   "source": [
    "n_nodes"
   ]
  }
 ],
 "metadata": {
  "kernelspec": {
   "display_name": "Python 3",
   "language": "python",
   "name": "python3"
  },
  "language_info": {
   "codemirror_mode": {
    "name": "ipython",
    "version": 3
   },
   "file_extension": ".py",
   "mimetype": "text/x-python",
   "name": "python",
   "nbconvert_exporter": "python",
   "pygments_lexer": "ipython3",
   "version": "3.5.2"
  }
 },
 "nbformat": 4,
 "nbformat_minor": 2
}
